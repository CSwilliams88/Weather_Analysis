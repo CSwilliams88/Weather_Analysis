{
 "cells": [
  {
   "cell_type": "markdown",
   "metadata": {},
   "source": [
    "# WeatherPy\n",
    "----\n",
    "\n",
    "#### Note\n",
    "* Instructions have been included for each segment. You do not have to follow them exactly, but they are included to help you think through the steps."
   ]
  },
  {
   "cell_type": "code",
   "execution_count": 1,
   "metadata": {
    "scrolled": true
   },
   "outputs": [],
   "source": [
    "# Dependencies and Setup\n",
    "import matplotlib.pyplot as plt\n",
    "import pandas as pd\n",
    "import numpy as np\n",
    "import requests\n",
    "import time\n",
    "from scipy.stats import linregress\n",
    "\n",
    "# Import API key\n",
    "from api_keys import weather_api_key\n",
    "\n",
    "# Incorporated citipy to determine city based on latitude and longitude\n",
    "from citipy import citipy\n",
    "\n",
    "# Output File (CSV)\n",
    "output_data_file = \"output_data/cities.csv\"\n",
    "\n",
    "# Range of latitudes and longitudes\n",
    "lat_range = (-90, 90)\n",
    "lng_range = (-180, 180)"
   ]
  },
  {
   "cell_type": "markdown",
   "metadata": {},
   "source": [
    "## Generate Cities List"
   ]
  },
  {
   "cell_type": "code",
   "execution_count": 2,
   "metadata": {},
   "outputs": [
    {
     "data": {
      "text/plain": [
       "611"
      ]
     },
     "execution_count": 2,
     "metadata": {},
     "output_type": "execute_result"
    }
   ],
   "source": [
    "# List for holding lat_lngs and cities\n",
    "lat_lngs = []\n",
    "cities = []\n",
    "\n",
    "# Create a set of random lat and lng combinations\n",
    "lats = np.random.uniform(lat_range[0], lat_range[1], size=1500)\n",
    "lngs = np.random.uniform(lng_range[0], lng_range[1], size=1500)\n",
    "lat_lngs = zip(lats, lngs)\n",
    "\n",
    "# Identify nearest city for each lat, lng combination\n",
    "for lat_lng in lat_lngs:\n",
    "    city = citipy.nearest_city(lat_lng[0], lat_lng[1]).city_name\n",
    "    \n",
    "    # If the city is unique, then add it to a our cities list\n",
    "    if city not in cities:\n",
    "        cities.append(city)\n",
    "\n",
    "# Print the city count to confirm sufficient count\n",
    "len(cities)"
   ]
  },
  {
   "cell_type": "markdown",
   "metadata": {},
   "source": [
    "### Perform API Calls\n",
    "* Perform a weather check on each city using a series of successive API calls.\n",
    "* Include a print log of each city as it'sbeing processed (with the city number and city name).\n"
   ]
  },
  {
   "cell_type": "code",
   "execution_count": 3,
   "metadata": {},
   "outputs": [],
   "source": [
    "url = \"http://api.openweathermap.org/data/2.5/weather?\"\n",
    "units = \"imperial\"\n",
    "\n",
    "query_url = f\"{url}appid={weather_api_key}&units={units}&q=\""
   ]
  },
  {
   "cell_type": "code",
   "execution_count": 4,
   "metadata": {},
   "outputs": [
    {
     "name": "stdout",
     "output_type": "stream",
     "text": [
      "sharjah\n",
      "City Not Found\n",
      "hermanus\n",
      "mataura\n",
      "shingu\n",
      "ushuaia\n",
      "nikolskoye\n",
      "bluff\n",
      "coquimbo\n",
      "kaeo\n",
      "kapaa\n",
      "ponta do sol\n",
      "atuona\n",
      "necochea\n",
      "hilo\n",
      "bredasdorp\n",
      "waingapu\n",
      "tasiilaq\n",
      "geraldton\n",
      "kloulklubed\n",
      "new norfolk\n",
      "kruisfontein\n",
      "rikitea\n",
      "arraial do cabo\n",
      "lunenburg\n",
      "City Not Found\n",
      "port lavaca\n",
      "sebrovo\n",
      "faanui\n",
      "prince rupert\n",
      "norman wells\n",
      "sur\n",
      "punta arenas\n",
      "City Not Found\n",
      "london\n",
      "yellowknife\n",
      "beyneu\n",
      "City Not Found\n",
      "vestmannaeyjar\n",
      "avarua\n",
      "tuktoyaktuk\n",
      "miri\n",
      "busselton\n",
      "the valley\n",
      "padang\n",
      "City Not Found\n",
      "thinadhoo\n",
      "vaini\n",
      "faya\n",
      "saint-philippe\n",
      "pimentel\n",
      "casper\n",
      "santa isabel\n",
      "babusnica\n",
      "pangnirtung\n",
      "manitowoc\n",
      "City Not Found\n",
      "bambous virieux\n",
      "port alfred\n",
      "tiksi\n",
      "kharp\n",
      "santa maria\n",
      "City Not Found\n",
      "upernavik\n",
      "hobart\n",
      "puerto ayora\n",
      "parana\n",
      "sitka\n",
      "formosa\n",
      "cabo san lucas\n",
      "dikson\n",
      "luderitz\n",
      "manokwari\n",
      "smithers\n",
      "xiropotamos\n",
      "le port\n",
      "wanning\n",
      "kasongo-lunda\n",
      "City Not Found\n",
      "cape town\n",
      "ahuimanu\n",
      "zhangye\n",
      "City Not Found\n",
      "port elizabeth\n",
      "cidreira\n",
      "saint anthony\n",
      "ios\n",
      "City Not Found\n",
      "mar del plata\n",
      "albany\n",
      "bonavista\n",
      "aripuana\n",
      "pekalongan\n",
      "saint-pierre\n",
      "isangel\n",
      "vieques\n",
      "City Not Found\n",
      "bethel\n",
      "susaki\n",
      "City Not Found\n",
      "kaitangata\n",
      "mareeba\n",
      "severo-kurilsk\n",
      "sheksna\n",
      "camacupa\n",
      "nome\n",
      "sistranda\n",
      "beringovskiy\n",
      "chumikan\n",
      "flinders\n",
      "saskylakh\n",
      "vestmanna\n",
      "ust-kulom\n",
      "asau\n",
      "coos bay\n",
      "toora-khem\n",
      "City Not Found\n",
      "sangar\n",
      "nanakuli\n",
      "dubuque\n",
      "makokou\n",
      "preobrazheniye\n",
      "victoria\n",
      "cayenne\n",
      "dehui\n",
      "aksarka\n",
      "mattru\n",
      "sfantu gheorghe\n",
      "hasaki\n",
      "vila franca do campo\n",
      "touros\n",
      "saint-leu\n",
      "batemans bay\n",
      "sohagpur\n",
      "vao\n",
      "chokurdakh\n",
      "kodiak\n",
      "flin flon\n",
      "adre\n",
      "tornio\n",
      "turkan\n",
      "nadvoitsy\n",
      "rio gallegos\n",
      "sorland\n",
      "greenville\n",
      "shelburne\n",
      "sohag\n",
      "caravelas\n",
      "City Not Found\n",
      "ocos\n",
      "bud\n",
      "corinto\n",
      "lebu\n",
      "bar harbor\n",
      "nova ushytsya\n",
      "City Not Found\n",
      "yulara\n",
      "dolores\n",
      "City Not Found\n",
      "yashkul\n",
      "barrow\n",
      "tanabi\n",
      "tuatapere\n",
      "nipawin\n",
      "krasnogvardeyskiy\n",
      "castro\n",
      "palm coast\n",
      "butaritari\n",
      "baruun-urt\n",
      "ampanihy\n",
      "viedma\n",
      "chuy\n",
      "champerico\n",
      "taoudenni\n",
      "City Not Found\n",
      "palmer\n",
      "City Not Found\n",
      "georgetown\n",
      "thompson\n",
      "lompoc\n",
      "qaanaaq\n",
      "caninde\n",
      "kysyl-syr\n",
      "amahai\n",
      "katsuura\n",
      "ribeira grande\n",
      "coari\n",
      "City Not Found\n",
      "yumen\n",
      "City Not Found\n",
      "hithadhoo\n",
      "hami\n",
      "payson\n",
      "husavik\n",
      "lorengau\n",
      "denpasar\n",
      "provideniya\n",
      "presidencia roque saenz pena\n",
      "price\n",
      "waipawa\n",
      "puerto baquerizo moreno\n",
      "evansville\n",
      "aksu\n",
      "arman\n",
      "salamiyah\n",
      "inhambane\n",
      "klaksvik\n",
      "port hedland\n",
      "poum\n",
      "port hardy\n",
      "itarema\n",
      "iqaluit\n",
      "hambantota\n",
      "mehamn\n",
      "jamestown\n",
      "City Not Found\n",
      "shadegan\n",
      "langres\n",
      "mount gambier\n",
      "kiama\n",
      "xuanhua\n",
      "luanda\n",
      "humaita\n",
      "logan\n",
      "tiarei\n",
      "moose factory\n",
      "forest lake\n",
      "taltal\n",
      "rocha\n",
      "vardo\n",
      "san jose\n",
      "usogorsk\n",
      "san carlos\n",
      "sola\n",
      "carnarvon\n",
      "pacific grove\n",
      "buin\n",
      "raahe\n",
      "City Not Found\n",
      "City Not Found\n",
      "tshela\n",
      "tougan\n",
      "City Not Found\n",
      "xuddur\n",
      "kiunga\n",
      "xichang\n",
      "dauriya\n",
      "tazovskiy\n",
      "karratha\n",
      "santa isabel do rio negro\n",
      "mnogovershinnyy\n",
      "mahebourg\n",
      "bandarbeyla\n",
      "yeniseysk\n",
      "codrington\n",
      "loukhi\n",
      "veraval\n",
      "qasigiannguit\n",
      "breves\n",
      "nouadhibou\n",
      "takoradi\n",
      "sept-iles\n",
      "yar-sale\n",
      "quatre cocos\n",
      "san francisco\n",
      "san patricio\n",
      "yakeshi\n",
      "chapais\n",
      "zeya\n",
      "goderich\n",
      "bakchar\n",
      "verkhnevilyuysk\n",
      "los llanos de aridane\n",
      "bundaberg\n",
      "honiara\n",
      "City Not Found\n",
      "chicama\n",
      "road town\n",
      "comodoro rivadavia\n",
      "pevek\n",
      "sungairaya\n",
      "City Not Found\n",
      "leningradskiy\n",
      "hualmay\n",
      "City Not Found\n",
      "masty\n",
      "belaya gora\n",
      "kembe\n",
      "atar\n",
      "namibe\n",
      "saravan\n",
      "muros\n",
      "komsomolskiy\n",
      "rhyl\n",
      "City Not Found\n",
      "City Not Found\n",
      "ramon castilla\n",
      "wladyslawowo\n",
      "san cristobal\n",
      "la ronge\n",
      "teguldet\n",
      "nantucket\n",
      "meinerzhagen\n",
      "saldanha\n",
      "torbay\n",
      "pangody\n",
      "vieux fort\n",
      "central point\n",
      "igarka\n",
      "City Not Found\n",
      "xinan\n",
      "henties bay\n",
      "tautira\n",
      "aklavik\n",
      "sukumo\n",
      "luwuk\n",
      "ketchikan\n",
      "marsa matruh\n",
      "mustafabad\n",
      "herat\n",
      "airai\n",
      "surt\n",
      "City Not Found\n",
      "wawa\n",
      "brae\n",
      "lagoa\n",
      "ostrovnoy\n",
      "saint-joseph\n",
      "japura\n",
      "guerrero negro\n",
      "City Not Found\n",
      "te anau\n",
      "vila velha\n",
      "ust-tsilma\n",
      "beipiao\n",
      "east london\n",
      "ada\n",
      "City Not Found\n",
      "longyearbyen\n",
      "matara\n",
      "aitape\n",
      "ewa beach\n",
      "myanaung\n",
      "City Not Found\n",
      "esperance\n",
      "snasa\n",
      "City Not Found\n",
      "grenaa\n",
      "paris\n",
      "ancud\n",
      "araouane\n",
      "douglas\n",
      "sibolga\n",
      "fortuna\n",
      "lavrentiya\n",
      "talnakh\n",
      "cockburn town\n",
      "choix\n",
      "port said\n",
      "buala\n",
      "constitucion\n",
      "garowe\n",
      "sorbhog\n",
      "cap-chat\n",
      "mercedes\n",
      "aswan\n",
      "kogon\n",
      "souillac\n",
      "City Not Found\n",
      "alyangula\n",
      "kasulu\n",
      "cherskiy\n",
      "City Not Found\n",
      "altay\n",
      "whitehorse\n",
      "khatanga\n",
      "saint george\n",
      "todos santos\n",
      "turukhansk\n",
      "alice springs\n",
      "puerto escondido\n",
      "katobu\n",
      "olinda\n",
      "abashiri\n",
      "dongsheng\n",
      "City Not Found\n",
      "City Not Found\n",
      "yelizovo\n",
      "dingle\n",
      "coxim\n",
      "tilichiki\n",
      "pisco\n",
      "gornopravdinsk\n",
      "tahta\n",
      "sawtell\n",
      "russell\n",
      "kirakira\n",
      "xaltocan\n",
      "jiaocheng\n",
      "neiafu\n",
      "taicheng\n",
      "nanortalik\n",
      "pundaguitan\n",
      "kahului\n",
      "paamiut\n",
      "clyde river\n",
      "saint-georges\n",
      "hoima\n",
      "City Not Found\n",
      "xam nua\n",
      "City Not Found\n",
      "kavieng\n",
      "City Not Found\n",
      "cam ranh\n",
      "iquique\n",
      "City Not Found\n",
      "hervey bay\n",
      "shimoda\n",
      "lisala\n",
      "fushan\n",
      "kudahuvadhoo\n",
      "narsaq\n",
      "kerema\n",
      "manapparai\n",
      "morwell\n",
      "myitkyina\n",
      "okhotsk\n",
      "havoysund\n",
      "broome\n",
      "mayo\n",
      "acajutla\n",
      "quesnel\n",
      "atasu\n",
      "baghdad\n",
      "tura\n",
      "sechura\n",
      "port blair\n",
      "City Not Found\n",
      "City Not Found\n",
      "kang\n",
      "sao domingos\n",
      "alzamay\n",
      "bengkulu\n",
      "safford\n",
      "maragogi\n",
      "yarmouth\n",
      "ballina\n",
      "weligama\n",
      "trincomalee\n",
      "derzhavinsk\n",
      "leshukonskoye\n",
      "ciudad bolivar\n",
      "teya\n",
      "alofi\n",
      "antalaha\n",
      "college\n",
      "mizdah\n",
      "namatanai\n",
      "ghanzi\n",
      "tumut\n",
      "san andres\n",
      "bilibino\n",
      "kushmurun\n",
      "port-cartier\n",
      "teshie\n",
      "ust-kuyga\n",
      "palmas\n",
      "bloemhof\n",
      "naze\n",
      "mechetinskaya\n",
      "lasa\n",
      "shellbrook\n",
      "bacolod\n",
      "nishihara\n",
      "damietta\n",
      "umm kaddadah\n",
      "san quintin\n",
      "whitianga\n",
      "City Not Found\n",
      "City Not Found\n",
      "marienburg\n",
      "uturoa\n",
      "edd\n",
      "City Not Found\n",
      "ihosy\n",
      "attingal\n",
      "banda aceh\n",
      "neftcala\n",
      "farah\n",
      "olafsvik\n",
      "khani\n",
      "City Not Found\n",
      "manggar\n",
      "sulphur springs\n",
      "City Not Found\n",
      "fairbanks\n",
      "saint-francois\n",
      "rawson\n",
      "nuoro\n",
      "christchurch\n",
      "kununurra\n",
      "svetlyy\n",
      "kuito\n",
      "navolato\n",
      "south valley\n",
      "bratsk\n",
      "superior\n",
      "nikel\n",
      "santa rosa\n",
      "kutum\n",
      "City Not Found\n",
      "ranong\n",
      "borlesti\n",
      "gamba\n",
      "dali\n",
      "lalmohan\n",
      "zemio\n",
      "hobyo\n",
      "launceston\n",
      "astoria\n",
      "bubaque\n",
      "pagadian\n",
      "mansa\n",
      "tual\n",
      "tomatlan\n",
      "dera ismail khan\n",
      "yaan\n",
      "kankaanpaa\n",
      "City Not Found\n",
      "City Not Found\n",
      "maine-soroa\n",
      "niny\n",
      "ankazobe\n",
      "martil\n",
      "balgazyn\n",
      "twin falls\n",
      "carutapera\n",
      "butembo\n",
      "grindavik\n",
      "camacha\n",
      "banepa\n",
      "stokmarknes\n",
      "hamilton\n",
      "benton harbor\n",
      "abha\n",
      "saint-augustin\n",
      "akdepe\n",
      "port lincoln\n",
      "kyzyl-suu\n",
      "conceicao do araguaia\n",
      "pyinmana\n",
      "awbari\n",
      "bafq\n",
      "morristown\n",
      "korla\n",
      "coihaique\n",
      "City Not Found\n",
      "villanueva\n",
      "sal rei\n",
      "baykit\n",
      "dwarka\n",
      "jinsha\n",
      "chelbasskaya\n",
      "huarmey\n",
      "tessalit\n",
      "beboto\n",
      "batagay-alyta\n",
      "opuwo\n",
      "garden city\n",
      "zyryanovsk\n",
      "City Not Found\n",
      "kattivakkam\n",
      "mandurah\n",
      "tabou\n",
      "sakaiminato\n",
      "zhuhai\n",
      "elizabeth city\n",
      "nago\n",
      "bartoszyce\n",
      "kirksville\n",
      "aztec\n",
      "port hawkesbury\n",
      "egvekinot\n",
      "dalvik\n",
      "ende\n",
      "talaya\n",
      "dharchula\n",
      "bowling green\n",
      "puerto leguizamo\n",
      "agirish\n",
      "paranaiba\n",
      "meulaboh\n",
      "sorong\n",
      "gushikawa\n",
      "shubarkuduk\n",
      "koslan\n",
      "anloga\n",
      "City Not Found\n",
      "dabakala\n",
      "anadyr\n",
      "bouna\n",
      "general pico\n",
      "tugaya\n",
      "progreso\n",
      "igbon\n",
      "City Not Found\n",
      "cruzeiro do sul\n",
      "halifax\n",
      "san isidro\n",
      "kholtoson\n",
      "hinton\n"
     ]
    }
   ],
   "source": [
    "city_names = []\n",
    "\n",
    "# set up lists to hold reponse info\n",
    "lat = []\n",
    "lon = []\n",
    "temp = []\n",
    "humid = []\n",
    "wind_speed = []\n",
    "cloud = []\n",
    "country = []\n",
    "date = []\n",
    "city_id = []\n",
    "\n",
    "# Loop through the list of cities and perform a request for data on each\n",
    "for city in cities:\n",
    "    try:\n",
    "        response = requests.get(query_url + city).json()\n",
    "        lat.append(response['coord']['lat'])\n",
    "        lon.append(response['coord']['lon'])\n",
    "        temp.append(response['main']['temp_max'])\n",
    "        humid.append(response['main']['humidity'])\n",
    "        wind_speed.append(response['wind']['speed'])\n",
    "        cloud.append(response['clouds']['all'])\n",
    "        city_names.append(city)\n",
    "        country.append(response['sys']['country'])\n",
    "        date.append(response['dt'])\n",
    "    \n",
    "    \n",
    "        print(city)\n",
    "    except:\n",
    "        print (\"City Not Found\")\n",
    "        \n",
    "\n",
    "\n",
    "    \n",
    "\n",
    "    "
   ]
  },
  {
   "cell_type": "code",
   "execution_count": 5,
   "metadata": {
    "scrolled": true
   },
   "outputs": [
    {
     "name": "stdout",
     "output_type": "stream",
     "text": [
      "['sharjah', 'hermanus', 'mataura', 'shingu', 'ushuaia', 'nikolskoye', 'bluff', 'coquimbo', 'kaeo', 'kapaa', 'ponta do sol', 'atuona', 'necochea', 'hilo', 'bredasdorp', 'waingapu', 'tasiilaq', 'geraldton', 'kloulklubed', 'new norfolk', 'kruisfontein', 'rikitea', 'arraial do cabo', 'lunenburg', 'port lavaca', 'sebrovo', 'faanui', 'prince rupert', 'norman wells', 'sur', 'punta arenas', 'london', 'yellowknife', 'beyneu', 'vestmannaeyjar', 'avarua', 'tuktoyaktuk', 'miri', 'busselton', 'the valley', 'padang', 'thinadhoo', 'vaini', 'faya', 'saint-philippe', 'pimentel', 'casper', 'santa isabel', 'babusnica', 'pangnirtung', 'manitowoc', 'bambous virieux', 'port alfred', 'tiksi', 'kharp', 'santa maria', 'upernavik', 'hobart', 'puerto ayora', 'parana', 'sitka', 'formosa', 'cabo san lucas', 'dikson', 'luderitz', 'manokwari', 'smithers', 'xiropotamos', 'le port', 'wanning', 'kasongo-lunda', 'cape town', 'ahuimanu', 'zhangye', 'port elizabeth', 'cidreira', 'saint anthony', 'ios', 'mar del plata', 'albany', 'bonavista', 'aripuana', 'pekalongan', 'saint-pierre', 'isangel', 'vieques', 'bethel', 'susaki', 'kaitangata', 'mareeba', 'severo-kurilsk', 'sheksna', 'camacupa', 'nome', 'sistranda', 'beringovskiy', 'chumikan', 'flinders', 'saskylakh', 'vestmanna', 'ust-kulom', 'asau', 'coos bay', 'toora-khem', 'sangar', 'nanakuli', 'dubuque', 'makokou', 'preobrazheniye', 'victoria', 'cayenne', 'dehui', 'aksarka', 'mattru', 'sfantu gheorghe', 'hasaki', 'vila franca do campo', 'touros', 'saint-leu', 'batemans bay', 'sohagpur', 'vao', 'chokurdakh', 'kodiak', 'flin flon', 'adre', 'tornio', 'turkan', 'nadvoitsy', 'rio gallegos', 'sorland', 'greenville', 'shelburne', 'sohag', 'caravelas', 'ocos', 'bud', 'corinto', 'lebu', 'bar harbor', 'nova ushytsya', 'yulara', 'dolores', 'yashkul', 'barrow', 'tanabi', 'tuatapere', 'nipawin', 'krasnogvardeyskiy', 'castro', 'palm coast', 'butaritari', 'baruun-urt', 'ampanihy', 'viedma', 'chuy', 'champerico', 'taoudenni', 'palmer', 'georgetown', 'thompson', 'lompoc', 'qaanaaq', 'caninde', 'kysyl-syr', 'amahai', 'katsuura', 'ribeira grande', 'coari', 'yumen', 'hithadhoo', 'hami', 'payson', 'husavik', 'lorengau', 'denpasar', 'provideniya', 'presidencia roque saenz pena', 'price', 'waipawa', 'puerto baquerizo moreno', 'evansville', 'aksu', 'arman', 'salamiyah', 'inhambane', 'klaksvik', 'port hedland', 'poum', 'port hardy', 'itarema', 'iqaluit', 'hambantota', 'mehamn', 'jamestown', 'shadegan', 'langres', 'mount gambier', 'kiama', 'xuanhua', 'luanda', 'humaita', 'logan', 'tiarei', 'moose factory', 'forest lake', 'taltal', 'rocha', 'vardo', 'san jose', 'usogorsk', 'san carlos', 'sola', 'carnarvon', 'pacific grove', 'buin', 'raahe', 'tshela', 'tougan', 'xuddur', 'kiunga', 'xichang', 'dauriya', 'tazovskiy', 'karratha', 'santa isabel do rio negro', 'mnogovershinnyy', 'mahebourg', 'bandarbeyla', 'yeniseysk', 'codrington', 'loukhi', 'veraval', 'qasigiannguit', 'breves', 'nouadhibou', 'takoradi', 'sept-iles', 'yar-sale', 'quatre cocos', 'san francisco', 'san patricio', 'yakeshi', 'chapais', 'zeya', 'goderich', 'bakchar', 'verkhnevilyuysk', 'los llanos de aridane', 'bundaberg', 'honiara', 'chicama', 'road town', 'comodoro rivadavia', 'pevek', 'sungairaya', 'leningradskiy', 'hualmay', 'masty', 'belaya gora', 'kembe', 'atar', 'namibe', 'saravan', 'muros', 'komsomolskiy', 'rhyl', 'ramon castilla', 'wladyslawowo', 'san cristobal', 'la ronge', 'teguldet', 'nantucket', 'meinerzhagen', 'saldanha', 'torbay', 'pangody', 'vieux fort', 'central point', 'igarka', 'xinan', 'henties bay', 'tautira', 'aklavik', 'sukumo', 'luwuk', 'ketchikan', 'marsa matruh', 'mustafabad', 'herat', 'airai', 'surt', 'wawa', 'brae', 'lagoa', 'ostrovnoy', 'saint-joseph', 'japura', 'guerrero negro', 'te anau', 'vila velha', 'ust-tsilma', 'beipiao', 'east london', 'ada', 'longyearbyen', 'matara', 'aitape', 'ewa beach', 'myanaung', 'esperance', 'snasa', 'grenaa', 'paris', 'ancud', 'araouane', 'douglas', 'sibolga', 'fortuna', 'lavrentiya', 'talnakh', 'cockburn town', 'choix', 'port said', 'buala', 'constitucion', 'garowe', 'sorbhog', 'cap-chat', 'mercedes', 'aswan', 'kogon', 'souillac', 'alyangula', 'kasulu', 'cherskiy', 'altay', 'whitehorse', 'khatanga', 'saint george', 'todos santos', 'turukhansk', 'alice springs', 'puerto escondido', 'katobu', 'olinda', 'abashiri', 'dongsheng', 'yelizovo', 'dingle', 'coxim', 'tilichiki', 'pisco', 'gornopravdinsk', 'tahta', 'sawtell', 'russell', 'kirakira', 'xaltocan', 'jiaocheng', 'neiafu', 'taicheng', 'nanortalik', 'pundaguitan', 'kahului', 'paamiut', 'clyde river', 'saint-georges', 'hoima', 'xam nua', 'kavieng', 'cam ranh', 'iquique', 'hervey bay', 'shimoda', 'lisala', 'fushan', 'kudahuvadhoo', 'narsaq', 'kerema', 'manapparai', 'morwell', 'myitkyina', 'okhotsk', 'havoysund', 'broome', 'mayo', 'acajutla', 'quesnel', 'atasu', 'baghdad', 'tura', 'sechura', 'port blair', 'kang', 'sao domingos', 'alzamay', 'bengkulu', 'safford', 'maragogi', 'yarmouth', 'ballina', 'weligama', 'trincomalee', 'derzhavinsk', 'leshukonskoye', 'ciudad bolivar', 'teya', 'alofi', 'antalaha', 'college', 'mizdah', 'namatanai', 'ghanzi', 'tumut', 'san andres', 'bilibino', 'kushmurun', 'port-cartier', 'teshie', 'ust-kuyga', 'palmas', 'bloemhof', 'naze', 'mechetinskaya', 'lasa', 'shellbrook', 'bacolod', 'nishihara', 'damietta', 'umm kaddadah', 'san quintin', 'whitianga', 'marienburg', 'uturoa', 'edd', 'ihosy', 'attingal', 'banda aceh', 'neftcala', 'farah', 'olafsvik', 'khani', 'manggar', 'sulphur springs', 'fairbanks', 'saint-francois', 'rawson', 'nuoro', 'christchurch', 'kununurra', 'svetlyy', 'kuito', 'navolato', 'south valley', 'bratsk', 'superior', 'nikel', 'santa rosa', 'kutum', 'ranong', 'borlesti', 'gamba', 'dali', 'lalmohan', 'zemio', 'hobyo', 'launceston', 'astoria', 'bubaque', 'pagadian', 'mansa', 'tual', 'tomatlan', 'dera ismail khan', 'yaan', 'kankaanpaa', 'maine-soroa', 'niny', 'ankazobe', 'martil', 'balgazyn', 'twin falls', 'carutapera', 'butembo', 'grindavik', 'camacha', 'banepa', 'stokmarknes', 'hamilton', 'benton harbor', 'abha', 'saint-augustin', 'akdepe', 'port lincoln', 'kyzyl-suu', 'conceicao do araguaia', 'pyinmana', 'awbari', 'bafq', 'morristown', 'korla', 'coihaique', 'villanueva', 'sal rei', 'baykit', 'dwarka', 'jinsha', 'chelbasskaya', 'huarmey', 'tessalit', 'beboto', 'batagay-alyta', 'opuwo', 'garden city', 'zyryanovsk', 'kattivakkam', 'mandurah', 'tabou', 'sakaiminato', 'zhuhai', 'elizabeth city', 'nago', 'bartoszyce', 'kirksville', 'aztec', 'port hawkesbury', 'egvekinot', 'dalvik', 'ende', 'talaya', 'dharchula', 'bowling green', 'puerto leguizamo', 'agirish', 'paranaiba', 'meulaboh', 'sorong', 'gushikawa', 'shubarkuduk', 'koslan', 'anloga', 'dabakala', 'anadyr', 'bouna', 'general pico', 'tugaya', 'progreso', 'igbon', 'cruzeiro do sul', 'halifax', 'san isidro', 'kholtoson', 'hinton']\n"
     ]
    }
   ],
   "source": [
    "print(city_names)"
   ]
  },
  {
   "cell_type": "markdown",
   "metadata": {},
   "source": [
    "### Convert Raw Data to DataFrame\n",
    "* Export the city data into a .csv.\n",
    "* Display the DataFrame"
   ]
  },
  {
   "cell_type": "code",
   "execution_count": 6,
   "metadata": {
    "scrolled": true
   },
   "outputs": [
    {
     "data": {
      "text/html": [
       "<div>\n",
       "<style scoped>\n",
       "    .dataframe tbody tr th:only-of-type {\n",
       "        vertical-align: middle;\n",
       "    }\n",
       "\n",
       "    .dataframe tbody tr th {\n",
       "        vertical-align: top;\n",
       "    }\n",
       "\n",
       "    .dataframe thead th {\n",
       "        text-align: right;\n",
       "    }\n",
       "</style>\n",
       "<table border=\"1\" class=\"dataframe\">\n",
       "  <thead>\n",
       "    <tr style=\"text-align: right;\">\n",
       "      <th></th>\n",
       "      <th>City Name</th>\n",
       "      <th>Country</th>\n",
       "      <th>Longitude</th>\n",
       "      <th>Latitude</th>\n",
       "      <th>Temperature</th>\n",
       "      <th>Humidity</th>\n",
       "      <th>Wind Speed</th>\n",
       "      <th>Cloudiness</th>\n",
       "      <th>Date</th>\n",
       "    </tr>\n",
       "  </thead>\n",
       "  <tbody>\n",
       "    <tr>\n",
       "      <th>0</th>\n",
       "      <td>sharjah</td>\n",
       "      <td>AE</td>\n",
       "      <td>55.40</td>\n",
       "      <td>25.36</td>\n",
       "      <td>77.00</td>\n",
       "      <td>64</td>\n",
       "      <td>3.36</td>\n",
       "      <td>0</td>\n",
       "      <td>1603231306</td>\n",
       "    </tr>\n",
       "    <tr>\n",
       "      <th>1</th>\n",
       "      <td>hermanus</td>\n",
       "      <td>ZA</td>\n",
       "      <td>19.23</td>\n",
       "      <td>-34.42</td>\n",
       "      <td>46.00</td>\n",
       "      <td>91</td>\n",
       "      <td>2.84</td>\n",
       "      <td>0</td>\n",
       "      <td>1603231221</td>\n",
       "    </tr>\n",
       "    <tr>\n",
       "      <th>2</th>\n",
       "      <td>mataura</td>\n",
       "      <td>NZ</td>\n",
       "      <td>168.86</td>\n",
       "      <td>-46.19</td>\n",
       "      <td>53.01</td>\n",
       "      <td>69</td>\n",
       "      <td>7.00</td>\n",
       "      <td>36</td>\n",
       "      <td>1603231212</td>\n",
       "    </tr>\n",
       "    <tr>\n",
       "      <th>3</th>\n",
       "      <td>shingu</td>\n",
       "      <td>JP</td>\n",
       "      <td>135.98</td>\n",
       "      <td>33.73</td>\n",
       "      <td>61.27</td>\n",
       "      <td>76</td>\n",
       "      <td>9.46</td>\n",
       "      <td>39</td>\n",
       "      <td>1603231222</td>\n",
       "    </tr>\n",
       "    <tr>\n",
       "      <th>4</th>\n",
       "      <td>ushuaia</td>\n",
       "      <td>AR</td>\n",
       "      <td>-68.30</td>\n",
       "      <td>-54.80</td>\n",
       "      <td>44.60</td>\n",
       "      <td>68</td>\n",
       "      <td>13.87</td>\n",
       "      <td>75</td>\n",
       "      <td>1603231099</td>\n",
       "    </tr>\n",
       "    <tr>\n",
       "      <th>...</th>\n",
       "      <td>...</td>\n",
       "      <td>...</td>\n",
       "      <td>...</td>\n",
       "      <td>...</td>\n",
       "      <td>...</td>\n",
       "      <td>...</td>\n",
       "      <td>...</td>\n",
       "      <td>...</td>\n",
       "      <td>...</td>\n",
       "    </tr>\n",
       "    <tr>\n",
       "      <th>549</th>\n",
       "      <td>cruzeiro do sul</td>\n",
       "      <td>BR</td>\n",
       "      <td>-51.99</td>\n",
       "      <td>-29.51</td>\n",
       "      <td>73.00</td>\n",
       "      <td>78</td>\n",
       "      <td>7.61</td>\n",
       "      <td>20</td>\n",
       "      <td>1603231246</td>\n",
       "    </tr>\n",
       "    <tr>\n",
       "      <th>550</th>\n",
       "      <td>halifax</td>\n",
       "      <td>CA</td>\n",
       "      <td>-63.57</td>\n",
       "      <td>44.65</td>\n",
       "      <td>62.01</td>\n",
       "      <td>95</td>\n",
       "      <td>9.57</td>\n",
       "      <td>97</td>\n",
       "      <td>1603231261</td>\n",
       "    </tr>\n",
       "    <tr>\n",
       "      <th>551</th>\n",
       "      <td>san isidro</td>\n",
       "      <td>PE</td>\n",
       "      <td>-77.05</td>\n",
       "      <td>-12.12</td>\n",
       "      <td>68.00</td>\n",
       "      <td>68</td>\n",
       "      <td>6.93</td>\n",
       "      <td>47</td>\n",
       "      <td>1603231376</td>\n",
       "    </tr>\n",
       "    <tr>\n",
       "      <th>552</th>\n",
       "      <td>kholtoson</td>\n",
       "      <td>RU</td>\n",
       "      <td>103.31</td>\n",
       "      <td>50.30</td>\n",
       "      <td>21.42</td>\n",
       "      <td>80</td>\n",
       "      <td>2.35</td>\n",
       "      <td>72</td>\n",
       "      <td>1603231376</td>\n",
       "    </tr>\n",
       "    <tr>\n",
       "      <th>553</th>\n",
       "      <td>hinton</td>\n",
       "      <td>CA</td>\n",
       "      <td>-117.59</td>\n",
       "      <td>53.40</td>\n",
       "      <td>38.43</td>\n",
       "      <td>70</td>\n",
       "      <td>7.99</td>\n",
       "      <td>56</td>\n",
       "      <td>1603231376</td>\n",
       "    </tr>\n",
       "  </tbody>\n",
       "</table>\n",
       "<p>554 rows × 9 columns</p>\n",
       "</div>"
      ],
      "text/plain": [
       "           City Name Country  Longitude  Latitude  Temperature  Humidity  \\\n",
       "0            sharjah      AE      55.40     25.36        77.00        64   \n",
       "1           hermanus      ZA      19.23    -34.42        46.00        91   \n",
       "2            mataura      NZ     168.86    -46.19        53.01        69   \n",
       "3             shingu      JP     135.98     33.73        61.27        76   \n",
       "4            ushuaia      AR     -68.30    -54.80        44.60        68   \n",
       "..               ...     ...        ...       ...          ...       ...   \n",
       "549  cruzeiro do sul      BR     -51.99    -29.51        73.00        78   \n",
       "550          halifax      CA     -63.57     44.65        62.01        95   \n",
       "551       san isidro      PE     -77.05    -12.12        68.00        68   \n",
       "552        kholtoson      RU     103.31     50.30        21.42        80   \n",
       "553           hinton      CA    -117.59     53.40        38.43        70   \n",
       "\n",
       "     Wind Speed  Cloudiness        Date  \n",
       "0          3.36           0  1603231306  \n",
       "1          2.84           0  1603231221  \n",
       "2          7.00          36  1603231212  \n",
       "3          9.46          39  1603231222  \n",
       "4         13.87          75  1603231099  \n",
       "..          ...         ...         ...  \n",
       "549        7.61          20  1603231246  \n",
       "550        9.57          97  1603231261  \n",
       "551        6.93          47  1603231376  \n",
       "552        2.35          72  1603231376  \n",
       "553        7.99          56  1603231376  \n",
       "\n",
       "[554 rows x 9 columns]"
      ]
     },
     "execution_count": 6,
     "metadata": {},
     "output_type": "execute_result"
    }
   ],
   "source": [
    "cities_df = pd.DataFrame({\"City Name\": city_names, \"Country\": country, \"Longitude\": lon, \"Latitude\": lat,\n",
    "                          \"Temperature\": temp, \"Humidity\": humid, \"Wind Speed\": wind_speed, \"Cloudiness\": cloud,\n",
    "                          \"Date\": date})\n",
    "cities_df"
   ]
  },
  {
   "cell_type": "code",
   "execution_count": 7,
   "metadata": {},
   "outputs": [],
   "source": [
    "cities_df.to_csv(\"../starter_code/cities_data.csv\", encoding=\"utf-8\", index=False)"
   ]
  },
  {
   "cell_type": "markdown",
   "metadata": {},
   "source": [
    "## Inspect the data and remove the cities where the humidity > 100%.\n",
    "----\n",
    "Skip this step if there are no cities that have humidity > 100%. "
   ]
  },
  {
   "cell_type": "code",
   "execution_count": 8,
   "metadata": {},
   "outputs": [
    {
     "data": {
      "text/html": [
       "<div>\n",
       "<style scoped>\n",
       "    .dataframe tbody tr th:only-of-type {\n",
       "        vertical-align: middle;\n",
       "    }\n",
       "\n",
       "    .dataframe tbody tr th {\n",
       "        vertical-align: top;\n",
       "    }\n",
       "\n",
       "    .dataframe thead th {\n",
       "        text-align: right;\n",
       "    }\n",
       "</style>\n",
       "<table border=\"1\" class=\"dataframe\">\n",
       "  <thead>\n",
       "    <tr style=\"text-align: right;\">\n",
       "      <th></th>\n",
       "      <th>City Name</th>\n",
       "      <th>Country</th>\n",
       "      <th>Longitude</th>\n",
       "      <th>Latitude</th>\n",
       "      <th>Temperature</th>\n",
       "      <th>Humidity</th>\n",
       "      <th>Wind Speed</th>\n",
       "      <th>Cloudiness</th>\n",
       "      <th>Date</th>\n",
       "    </tr>\n",
       "  </thead>\n",
       "  <tbody>\n",
       "  </tbody>\n",
       "</table>\n",
       "</div>"
      ],
      "text/plain": [
       "Empty DataFrame\n",
       "Columns: [City Name, Country, Longitude, Latitude, Temperature, Humidity, Wind Speed, Cloudiness, Date]\n",
       "Index: []"
      ]
     },
     "execution_count": 8,
     "metadata": {},
     "output_type": "execute_result"
    }
   ],
   "source": [
    "humidity_df = cities_df.loc[cities_df['Humidity'] > 100]\n",
    "humidity_df"
   ]
  },
  {
   "cell_type": "code",
   "execution_count": null,
   "metadata": {},
   "outputs": [],
   "source": [
    "#  Get the indices of cities that have humidity over 100%.\n"
   ]
  },
  {
   "cell_type": "code",
   "execution_count": null,
   "metadata": {},
   "outputs": [],
   "source": [
    "# Make a new DataFrame equal to the city data to drop all humidity outliers by index.\n",
    "# Passing \"inplace=False\" will make a copy of the city_data DataFrame, which we call \"clean_city_data\".\n"
   ]
  },
  {
   "cell_type": "code",
   "execution_count": null,
   "metadata": {},
   "outputs": [],
   "source": [
    "\n"
   ]
  },
  {
   "cell_type": "markdown",
   "metadata": {},
   "source": [
    "## Plotting the Data\n",
    "* Use proper labeling of the plots using plot titles (including date of analysis) and axes labels.\n",
    "* Save the plotted figures as .pngs."
   ]
  },
  {
   "cell_type": "markdown",
   "metadata": {},
   "source": [
    "## Latitude vs. Temperature Plot"
   ]
  },
  {
   "cell_type": "code",
   "execution_count": 9,
   "metadata": {
    "scrolled": true
   },
   "outputs": [
    {
     "data": {
      "image/png": "[encoded data removed]",
      "text/plain": [
       "<Figure size 432x288 with 1 Axes>"
      ]
     },
     "metadata": {
      "needs_background": "light"
     },
     "output_type": "display_data"
    }
   ],
   "source": [
    "plt.scatter(cities_df['Latitude'], cities_df['Temperature'])\n",
    "plt.xlabel(\"Latitude\")\n",
    "plt.ylabel(\"Temperature (F)\")\n",
    "plt.title(\"Latitude vs. Temperature\")\n",
    "plt.grid()\n",
    "\n",
    "plt.show()"
   ]
  },
  {
   "cell_type": "markdown",
   "metadata": {},
   "source": [
    "## Latitude vs. Humidity Plot"
   ]
  },
  {
   "cell_type": "code",
   "execution_count": 10,
   "metadata": {},
   "outputs": [
    {
     "data": {
      "image/png": "[encoded data removed]",
      "text/plain": [
       "<Figure size 432x288 with 1 Axes>"
      ]
     },
     "metadata": {
      "needs_background": "light"
     },
     "output_type": "display_data"
    }
   ],
   "source": [
    "plt.scatter(cities_df['Latitude'], cities_df['Humidity'])\n",
    "plt.xlabel(\"Latitude\")\n",
    "plt.ylabel(\"Humidity (%)\")\n",
    "plt.title(\"Latitude vs. Humidity\")\n",
    "plt.grid()\n",
    "\n",
    "plt.show()"
   ]
  },
  {
   "cell_type": "markdown",
   "metadata": {},
   "source": [
    "## Latitude vs. Cloudiness Plot"
   ]
  },
  {
   "cell_type": "code",
   "execution_count": 11,
   "metadata": {},
   "outputs": [
    {
     "data": {
      "image/png": "[encoded data removed]",
      "text/plain": [
       "<Figure size 432x288 with 1 Axes>"
      ]
     },
     "metadata": {
      "needs_background": "light"
     },
     "output_type": "display_data"
    }
   ],
   "source": [
    "plt.scatter(cities_df['Latitude'], cities_df['Cloudiness'])\n",
    "plt.xlabel(\"Latitude\")\n",
    "plt.ylabel(\"Cloudiness (%)\")\n",
    "plt.title(\"Latitude vs. Cloudiness\")\n",
    "plt.grid()\n",
    "\n",
    "plt.show()"
   ]
  },
  {
   "cell_type": "markdown",
   "metadata": {},
   "source": [
    "## Latitude vs. Wind Speed Plot"
   ]
  },
  {
   "cell_type": "code",
   "execution_count": 12,
   "metadata": {},
   "outputs": [
    {
     "data": {
      "image/png": "[encoded data removed]",
      "text/plain": [
       "<Figure size 432x288 with 1 Axes>"
      ]
     },
     "metadata": {
      "needs_background": "light"
     },
     "output_type": "display_data"
    }
   ],
   "source": [
    "plt.scatter(cities_df['Latitude'], cities_df['Wind Speed'])\n",
    "plt.xlabel(\"Latitude\")\n",
    "plt.ylabel(\"Wind Speed (MPH)\")\n",
    "plt.title(\"Latitude vs. Wind Speed\")\n",
    "plt.grid()\n",
    "\n",
    "plt.show()"
   ]
  },
  {
   "cell_type": "markdown",
   "metadata": {},
   "source": [
    "## Linear Regression"
   ]
  },
  {
   "cell_type": "code",
   "execution_count": null,
   "metadata": {},
   "outputs": [],
   "source": []
  },
  {
   "cell_type": "markdown",
   "metadata": {},
   "source": [
    "####  Northern Hemisphere - Max Temp vs. Latitude Linear Regression"
   ]
  },
  {
   "cell_type": "code",
   "execution_count": 13,
   "metadata": {},
   "outputs": [
    {
     "data": {
      "image/png": "[encoded data removed]",
      "text/plain": [
       "<Figure size 432x288 with 1 Axes>"
      ]
     },
     "metadata": {
      "needs_background": "light"
     },
     "output_type": "display_data"
    }
   ],
   "source": [
    "northern_hem = cities_df.loc[cities_df['Latitude'] >= 0]\n",
    "x_values = northern_hem['Latitude']\n",
    "y_values = northern_hem['Temperature']\n",
    "(slope, intercept, rvalue, pvalue, stderr) = linregress(x_values, y_values)\n",
    "regress_values = x_values * slope + intercept\n",
    "line_eq = \"y = \" + str(round(slope,2)) + \"x + \" + str(round(intercept,2))\n",
    "plt.scatter(x_values,y_values)\n",
    "plt.plot(x_values,regress_values,\"r-\")\n",
    "plt.annotate(line_eq,(6,10),fontsize=15,color=\"red\")\n",
    "plt.xlabel('Latitude')\n",
    "plt.ylabel('Temperature (F)')\n",
    "plt.show()"
   ]
  },
  {
   "cell_type": "markdown",
   "metadata": {},
   "source": [
    "####  Southern Hemisphere - Max Temp vs. Latitude Linear Regression"
   ]
  },
  {
   "cell_type": "code",
   "execution_count": 14,
   "metadata": {},
   "outputs": [
    {
     "data": {
      "image/png": "[encoded data removed]",
      "text/plain": [
       "<Figure size 432x288 with 1 Axes>"
      ]
     },
     "metadata": {
      "needs_background": "light"
     },
     "output_type": "display_data"
    }
   ],
   "source": [
    "southern_hem = cities_df.loc[cities_df['Latitude'] <= 0]\n",
    "\n",
    "x_values = southern_hem['Latitude']\n",
    "y_values = southern_hem['Temperature']\n",
    "(slope, intercept, rvalue, pvalue, stderr) = linregress(x_values, y_values)\n",
    "regress_values = x_values * slope + intercept\n",
    "line_eq = \"y = \" + str(round(slope,2)) + \"x + \" + str(round(intercept,2))\n",
    "plt.scatter(x_values,y_values)\n",
    "plt.plot(x_values,regress_values,\"r-\")\n",
    "plt.annotate(line_eq,(6,10),fontsize=15,color=\"red\")\n",
    "plt.xlabel('Latitude')\n",
    "plt.ylabel('Temperature (F)')\n",
    "plt.show()"
   ]
  },
  {
   "cell_type": "markdown",
   "metadata": {},
   "source": [
    "####  Northern Hemisphere - Humidity (%) vs. Latitude Linear Regression"
   ]
  },
  {
   "cell_type": "code",
   "execution_count": 15,
   "metadata": {},
   "outputs": [
    {
     "data": {
      "image/png": "[encoded data removed]",
      "text/plain": [
       "<Figure size 432x288 with 1 Axes>"
      ]
     },
     "metadata": {
      "needs_background": "light"
     },
     "output_type": "display_data"
    }
   ],
   "source": [
    "northern_hem = cities_df.loc[cities_df['Latitude'] >= 0]\n",
    "x_values = northern_hem['Latitude']\n",
    "y_values = northern_hem['Humidity']\n",
    "(slope, intercept, rvalue, pvalue, stderr) = linregress(x_values, y_values)\n",
    "regress_values = x_values * slope + intercept\n",
    "line_eq = \"y = \" + str(round(slope,2)) + \"x + \" + str(round(intercept,2))\n",
    "plt.scatter(x_values,y_values)\n",
    "plt.plot(x_values,regress_values,\"r-\")\n",
    "plt.annotate(line_eq,(6,10),fontsize=15,color=\"red\")\n",
    "plt.xlabel('Latitude')\n",
    "plt.ylabel('Humidity (%)')\n",
    "plt.show()"
   ]
  },
  {
   "cell_type": "markdown",
   "metadata": {},
   "source": [
    "####  Southern Hemisphere - Humidity (%) vs. Latitude Linear Regression"
   ]
  },
  {
   "cell_type": "code",
   "execution_count": 16,
   "metadata": {},
   "outputs": [
    {
     "data": {
      "image/png": "[encoded data removed]",
      "text/plain": [
       "<Figure size 432x288 with 1 Axes>"
      ]
     },
     "metadata": {
      "needs_background": "light"
     },
     "output_type": "display_data"
    }
   ],
   "source": [
    "x_values = southern_hem['Latitude']\n",
    "y_values = southern_hem['Humidity']\n",
    "(slope, intercept, rvalue, pvalue, stderr) = linregress(x_values, y_values)\n",
    "regress_values = x_values * slope + intercept\n",
    "line_eq = \"y = \" + str(round(slope,2)) + \"x + \" + str(round(intercept,2))\n",
    "plt.scatter(x_values,y_values)\n",
    "plt.plot(x_values,regress_values,\"r-\")\n",
    "plt.annotate(line_eq,(6,10),fontsize=15,color=\"red\")\n",
    "plt.xlabel('Latitude')\n",
    "plt.ylabel('Humidity (%)')\n",
    "plt.show() "
   ]
  },
  {
   "cell_type": "markdown",
   "metadata": {},
   "source": [
    "####  Northern Hemisphere - Cloudiness (%) vs. Latitude Linear Regression"
   ]
  },
  {
   "cell_type": "code",
   "execution_count": 17,
   "metadata": {},
   "outputs": [
    {
     "data": {
      "image/png": "[encoded data removed]",
      "text/plain": [
       "<Figure size 432x288 with 1 Axes>"
      ]
     },
     "metadata": {
      "needs_background": "light"
     },
     "output_type": "display_data"
    }
   ],
   "source": [
    "northern_hem = cities_df.loc[cities_df['Latitude'] >= 0]\n",
    "x_values = northern_hem['Latitude']\n",
    "y_values = northern_hem['Cloudiness']\n",
    "(slope, intercept, rvalue, pvalue, stderr) = linregress(x_values, y_values)\n",
    "regress_values = x_values * slope + intercept\n",
    "line_eq = \"y = \" + str(round(slope,2)) + \"x + \" + str(round(intercept,2))\n",
    "plt.scatter(x_values,y_values)\n",
    "plt.plot(x_values,regress_values,\"r-\")\n",
    "plt.annotate(line_eq,(6,10),fontsize=15,color=\"red\")\n",
    "plt.xlabel('Latitude')\n",
    "plt.ylabel('Cloudiness (%)')\n",
    "plt.show()"
   ]
  },
  {
   "cell_type": "markdown",
   "metadata": {},
   "source": [
    "####  Southern Hemisphere - Cloudiness (%) vs. Latitude Linear Regression"
   ]
  },
  {
   "cell_type": "code",
   "execution_count": 18,
   "metadata": {},
   "outputs": [
    {
     "data": {
      "image/png": "[encoded data removed]",
      "text/plain": [
       "<Figure size 432x288 with 1 Axes>"
      ]
     },
     "metadata": {
      "needs_background": "light"
     },
     "output_type": "display_data"
    }
   ],
   "source": [
    "x_values = southern_hem['Latitude']\n",
    "y_values = southern_hem['Cloudiness']\n",
    "(slope, intercept, rvalue, pvalue, stderr) = linregress(x_values, y_values)\n",
    "regress_values = x_values * slope + intercept\n",
    "line_eq = \"y = \" + str(round(slope,2)) + \"x + \" + str(round(intercept,2))\n",
    "plt.scatter(x_values,y_values)\n",
    "plt.plot(x_values,regress_values,\"r-\")\n",
    "plt.annotate(line_eq,(6,10),fontsize=15,color=\"red\")\n",
    "plt.xlabel('Latitude')\n",
    "plt.ylabel('Cloudiness (%)')\n",
    "plt.show()"
   ]
  },
  {
   "cell_type": "markdown",
   "metadata": {},
   "source": [
    "####  Northern Hemisphere - Wind Speed (mph) vs. Latitude Linear Regression"
   ]
  },
  {
   "cell_type": "code",
   "execution_count": 19,
   "metadata": {},
   "outputs": [
    {
     "data": {
      "image/png": "[encoded data removed]",
      "text/plain": [
       "<Figure size 432x288 with 1 Axes>"
      ]
     },
     "metadata": {
      "needs_background": "light"
     },
     "output_type": "display_data"
    }
   ],
   "source": [
    "northern_hem = cities_df.loc[cities_df['Latitude'] >= 0]\n",
    "x_values = northern_hem['Latitude']\n",
    "y_values = northern_hem['Wind Speed']\n",
    "(slope, intercept, rvalue, pvalue, stderr) = linregress(x_values, y_values)\n",
    "regress_values = x_values * slope + intercept\n",
    "line_eq = \"y = \" + str(round(slope,2)) + \"x + \" + str(round(intercept,2))\n",
    "plt.scatter(x_values,y_values)\n",
    "plt.plot(x_values,regress_values,\"r-\")\n",
    "plt.annotate(line_eq,(6,10),fontsize=15,color=\"red\")\n",
    "plt.xlabel('Latitude')\n",
    "plt.ylabel('Wind Speed (MPH)')\n",
    "plt.show()"
   ]
  },
  {
   "cell_type": "markdown",
   "metadata": {},
   "source": [
    "####  Southern Hemisphere - Wind Speed (mph) vs. Latitude Linear Regression"
   ]
  },
  {
   "cell_type": "code",
   "execution_count": 20,
   "metadata": {},
   "outputs": [
    {
     "data": {
      "image/png": "[encoded data removed]",
      "text/plain": [
       "<Figure size 432x288 with 1 Axes>"
      ]
     },
     "metadata": {
      "needs_background": "light"
     },
     "output_type": "display_data"
    }
   ],
   "source": [
    "x_values = southern_hem['Latitude']\n",
    "y_values = southern_hem['Wind Speed']\n",
    "(slope, intercept, rvalue, pvalue, stderr) = linregress(x_values, y_values)\n",
    "regress_values = x_values * slope + intercept\n",
    "line_eq = \"y = \" + str(round(slope,2)) + \"x + \" + str(round(intercept,2))\n",
    "plt.scatter(x_values,y_values)\n",
    "plt.plot(x_values,regress_values,\"r-\")\n",
    "plt.annotate(line_eq,(6,10),fontsize=15,color=\"red\")\n",
    "plt.xlabel('Latitude')\n",
    "plt.ylabel('Wind Speed (MPH)')\n",
    "plt.show()"
   ]
  },
  {
   "cell_type": "code",
   "execution_count": null,
   "metadata": {},
   "outputs": [],
   "source": []
  },
  {
   "cell_type": "code",
   "execution_count": null,
   "metadata": {},
   "outputs": [],
   "source": []
  }
 ],
 "metadata": {
  "anaconda-cloud": {},
  "kernel_info": {
   "name": "python3"
  },
  "kernelspec": {
   "display_name": "Python 3",
   "language": "python",
   "name": "python3"
  },
  "language_info": {
   "codemirror_mode": {
    "name": "ipython",
    "version": 3
   },
   "file_extension": ".py",
   "mimetype": "text/x-python",
   "name": "python",
   "nbconvert_exporter": "python",
   "pygments_lexer": "ipython3",
   "version": "3.8.5"
  },
  "latex_envs": {
   "LaTeX_envs_menu_present": true,
   "autoclose": false,
   "autocomplete": true,
   "bibliofile": "biblio.bib",
   "cite_by": "apalike",
   "current_citInitial": 1,
   "eqLabelWithNumbers": true,
   "eqNumInitial": 1,
   "hotkeys": {
    "equation": "Ctrl-E",
    "itemize": "Ctrl-I"
   },
   "labels_anchors": false,
   "latex_user_defs": false,
   "report_style_numbering": false,
   "user_envs_cfg": false
  },
  "nteract": {
   "version": "0.12.3"
  }
 },
 "nbformat": 4,
 "nbformat_minor": 2
}
